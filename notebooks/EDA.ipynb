{
 "cells": [
  {
   "cell_type": "code",
   "execution_count": 2,
   "metadata": {},
   "outputs": [],
   "source": [
    "from xml.etree import ElementTree\n",
    "from pathlib import Path\n",
    "import pandas as pd\n",
    "from collections import deque, Counter"
   ]
  },
  {
   "cell_type": "code",
   "execution_count": 3,
   "metadata": {},
   "outputs": [],
   "source": [
    "def get_inner_names(root):\n",
    "    column_names = []\n",
    "    queue = deque([root])\n",
    "    \n",
    "    while queue:\n",
    "        childs, child_names = get_childs(queue.popleft())\n",
    "        queue.extend(childs)\n",
    "        column_names.extend(child_names)\n",
    "    \n",
    "    return column_names\n",
    "\n",
    "def get_childs(root):\n",
    "    names = [child.tag for child in root]\n",
    "    return list(root), names\n",
    "\n",
    "def convert_xml_to_df(dataset_path):\n",
    "    dataset_path = Path(dataset_path)\n",
    "    dataset = []\n",
    "    \n",
    "    for xml_path in dataset_path.rglob(\"*.xml\"):\n",
    "        xml_tree = ElementTree.parse(xml_path)\n",
    "        \n",
    "        root = xml_tree.getroot()\n",
    "        dataset_elem = {}\n",
    "        \n",
    "        column_names = get_inner_names(root)\n",
    "        cnt = Counter(column_names)\n",
    "        num_objs = cnt['object']\n",
    "        \n",
    "        uniqie_column_names = list(set(column_names))\n",
    "        obj_names = get_inner_names(root.find(\"object\"))\n",
    "        \n",
    "        for name in set(uniqie_column_names)-set(obj_names):\n",
    "                dataset_elem[name] = list(root.iter(name))[0].text\n",
    "        \n",
    "        dataset_elems = [dataset_elem.copy() for i in range(num_objs)]\n",
    "        for idx, obj in enumerate(root.iter(\"object\")):\n",
    "            for name in obj_names:\n",
    "                dataset_elems[idx][name] = list(obj.iter(name))[0].text\n",
    "                \n",
    "        dataset.extend(dataset_elems)\n",
    "        \n",
    "    dataset = pd.DataFrame(dataset)\n",
    "    return dataset"
   ]
  },
  {
   "cell_type": "code",
   "execution_count": 4,
   "metadata": {
    "scrolled": false
   },
   "outputs": [
    {
     "data": {
      "text/html": [
       "<div>\n",
       "<style scoped>\n",
       "    .dataframe tbody tr th:only-of-type {\n",
       "        vertical-align: middle;\n",
       "    }\n",
       "\n",
       "    .dataframe tbody tr th {\n",
       "        vertical-align: top;\n",
       "    }\n",
       "\n",
       "    .dataframe thead th {\n",
       "        text-align: right;\n",
       "    }\n",
       "</style>\n",
       "<table border=\"1\" class=\"dataframe\">\n",
       "  <thead>\n",
       "    <tr style=\"text-align: right;\">\n",
       "      <th></th>\n",
       "      <th>database</th>\n",
       "      <th>size</th>\n",
       "      <th>depth</th>\n",
       "      <th>folder</th>\n",
       "      <th>path</th>\n",
       "      <th>filename</th>\n",
       "      <th>source</th>\n",
       "      <th>object</th>\n",
       "      <th>height</th>\n",
       "      <th>segmented</th>\n",
       "      <th>width</th>\n",
       "      <th>name</th>\n",
       "      <th>pose</th>\n",
       "      <th>truncated</th>\n",
       "      <th>difficult</th>\n",
       "      <th>bndbox</th>\n",
       "      <th>xmin</th>\n",
       "      <th>ymin</th>\n",
       "      <th>xmax</th>\n",
       "      <th>ymax</th>\n",
       "    </tr>\n",
       "  </thead>\n",
       "  <tbody>\n",
       "    <tr>\n",
       "      <th>0</th>\n",
       "      <td>Unknown</td>\n",
       "      <td>\\n\\t\\t</td>\n",
       "      <td>3</td>\n",
       "      <td>images</td>\n",
       "      <td>validation/images/pic(22).jpg</td>\n",
       "      <td>pic(22).jpg</td>\n",
       "      <td>\\n\\t\\t</td>\n",
       "      <td>\\n\\t\\t</td>\n",
       "      <td>198</td>\n",
       "      <td>0</td>\n",
       "      <td>254</td>\n",
       "      <td>fire</td>\n",
       "      <td>Unspecified</td>\n",
       "      <td>0</td>\n",
       "      <td>0</td>\n",
       "      <td>\\n\\t\\t\\t</td>\n",
       "      <td>92</td>\n",
       "      <td>18</td>\n",
       "      <td>235</td>\n",
       "      <td>96</td>\n",
       "    </tr>\n",
       "    <tr>\n",
       "      <th>1</th>\n",
       "      <td>Unknown</td>\n",
       "      <td>\\n\\t\\t</td>\n",
       "      <td>3</td>\n",
       "      <td>images</td>\n",
       "      <td>validation/images/small(16).jpg</td>\n",
       "      <td>small(16).jpg</td>\n",
       "      <td>\\n\\t\\t</td>\n",
       "      <td>\\n\\t\\t</td>\n",
       "      <td>182</td>\n",
       "      <td>0</td>\n",
       "      <td>277</td>\n",
       "      <td>fire</td>\n",
       "      <td>Unspecified</td>\n",
       "      <td>0</td>\n",
       "      <td>0</td>\n",
       "      <td>\\n\\t\\t\\t</td>\n",
       "      <td>151</td>\n",
       "      <td>32</td>\n",
       "      <td>165</td>\n",
       "      <td>61</td>\n",
       "    </tr>\n",
       "    <tr>\n",
       "      <th>2</th>\n",
       "      <td>Unknown</td>\n",
       "      <td>\\n\\t\\t</td>\n",
       "      <td>3</td>\n",
       "      <td>images</td>\n",
       "      <td>validation/images/pic(3).jpg</td>\n",
       "      <td>pic(3).jpg</td>\n",
       "      <td>\\n\\t\\t</td>\n",
       "      <td>\\n\\t\\t</td>\n",
       "      <td>168</td>\n",
       "      <td>0</td>\n",
       "      <td>300</td>\n",
       "      <td>fire</td>\n",
       "      <td>Unspecified</td>\n",
       "      <td>0</td>\n",
       "      <td>0</td>\n",
       "      <td>\\n\\t\\t\\t</td>\n",
       "      <td>110</td>\n",
       "      <td>82</td>\n",
       "      <td>197</td>\n",
       "      <td>135</td>\n",
       "    </tr>\n",
       "    <tr>\n",
       "      <th>3</th>\n",
       "      <td>Unknown</td>\n",
       "      <td>\\n\\t\\t</td>\n",
       "      <td>3</td>\n",
       "      <td>images</td>\n",
       "      <td>validation/images/small(23).jpg</td>\n",
       "      <td>small(23).jpg</td>\n",
       "      <td>\\n\\t\\t</td>\n",
       "      <td>\\n\\t\\t</td>\n",
       "      <td>262</td>\n",
       "      <td>0</td>\n",
       "      <td>192</td>\n",
       "      <td>fire</td>\n",
       "      <td>Unspecified</td>\n",
       "      <td>0</td>\n",
       "      <td>0</td>\n",
       "      <td>\\n\\t\\t\\t</td>\n",
       "      <td>72</td>\n",
       "      <td>66</td>\n",
       "      <td>100</td>\n",
       "      <td>125</td>\n",
       "    </tr>\n",
       "    <tr>\n",
       "      <th>4</th>\n",
       "      <td>Unknown</td>\n",
       "      <td>\\n\\t\\t</td>\n",
       "      <td>3</td>\n",
       "      <td>images</td>\n",
       "      <td>validation/images/small(29).jpg</td>\n",
       "      <td>small(29).jpg</td>\n",
       "      <td>\\n\\t\\t</td>\n",
       "      <td>\\n\\t\\t</td>\n",
       "      <td>275</td>\n",
       "      <td>0</td>\n",
       "      <td>183</td>\n",
       "      <td>fire</td>\n",
       "      <td>Unspecified</td>\n",
       "      <td>0</td>\n",
       "      <td>0</td>\n",
       "      <td>\\n\\t\\t\\t</td>\n",
       "      <td>80</td>\n",
       "      <td>24</td>\n",
       "      <td>106</td>\n",
       "      <td>103</td>\n",
       "    </tr>\n",
       "  </tbody>\n",
       "</table>\n",
       "</div>"
      ],
      "text/plain": [
       "  database    size  depth  folder                             path  \\\n",
       "0  Unknown  \\n\\t\\t      3  images    validation/images/pic(22).jpg   \n",
       "1  Unknown  \\n\\t\\t      3  images  validation/images/small(16).jpg   \n",
       "2  Unknown  \\n\\t\\t      3  images     validation/images/pic(3).jpg   \n",
       "3  Unknown  \\n\\t\\t      3  images  validation/images/small(23).jpg   \n",
       "4  Unknown  \\n\\t\\t      3  images  validation/images/small(29).jpg   \n",
       "\n",
       "        filename  source  object  height  segmented  width  name         pose  \\\n",
       "0    pic(22).jpg  \\n\\t\\t  \\n\\t\\t     198          0    254  fire  Unspecified   \n",
       "1  small(16).jpg  \\n\\t\\t  \\n\\t\\t     182          0    277  fire  Unspecified   \n",
       "2     pic(3).jpg  \\n\\t\\t  \\n\\t\\t     168          0    300  fire  Unspecified   \n",
       "3  small(23).jpg  \\n\\t\\t  \\n\\t\\t     262          0    192  fire  Unspecified   \n",
       "4  small(29).jpg  \\n\\t\\t  \\n\\t\\t     275          0    183  fire  Unspecified   \n",
       "\n",
       "   truncated  difficult    bndbox  xmin  ymin  xmax  ymax  \n",
       "0          0          0  \\n\\t\\t\\t    92    18   235    96  \n",
       "1          0          0  \\n\\t\\t\\t   151    32   165    61  \n",
       "2          0          0  \\n\\t\\t\\t   110    82   197   135  \n",
       "3          0          0  \\n\\t\\t\\t    72    66   100   125  \n",
       "4          0          0  \\n\\t\\t\\t    80    24   106   103  "
      ]
     },
     "execution_count": 4,
     "metadata": {},
     "output_type": "execute_result"
    }
   ],
   "source": [
    "data = convert_xml_to_df(\"../data\")\n",
    "for column_name in ['xmin', 'xmax', 'ymin', 'ymax', 'width', 'depth', 'height', 'segmented', 'truncated', 'difficult']:\n",
    "    data[column_name] = data[column_name].astype(int)\n",
    "data.head()"
   ]
  },
  {
   "cell_type": "code",
   "execution_count": 130,
   "metadata": {},
   "outputs": [
    {
     "data": {
      "text/plain": [
       "array(['Unknown'], dtype=object)"
      ]
     },
     "execution_count": 130,
     "metadata": {},
     "output_type": "execute_result"
    }
   ],
   "source": [
    "data['database'].unique()"
   ]
  },
  {
   "cell_type": "code",
   "execution_count": 131,
   "metadata": {},
   "outputs": [
    {
     "data": {
      "text/plain": [
       "array([0])"
      ]
     },
     "execution_count": 131,
     "metadata": {},
     "output_type": "execute_result"
    }
   ],
   "source": [
    "data['segmented'].unique()"
   ]
  },
  {
   "cell_type": "code",
   "execution_count": 5,
   "metadata": {
    "scrolled": true
   },
   "outputs": [
    {
     "data": {
      "text/plain": [
       "0    691\n",
       "1     10\n",
       "Name: truncated, dtype: int64"
      ]
     },
     "execution_count": 5,
     "metadata": {},
     "output_type": "execute_result"
    }
   ],
   "source": [
    "data['truncated'].value_counts()"
   ]
  },
  {
   "cell_type": "code",
   "execution_count": 133,
   "metadata": {},
   "outputs": [
    {
     "data": {
      "text/plain": [
       "array([0])"
      ]
     },
     "execution_count": 133,
     "metadata": {},
     "output_type": "execute_result"
    }
   ],
   "source": [
    "data['difficult'].unique()"
   ]
  },
  {
   "cell_type": "code",
   "execution_count": 134,
   "metadata": {},
   "outputs": [
    {
     "data": {
      "text/plain": [
       "array(['fire'], dtype=object)"
      ]
     },
     "execution_count": 134,
     "metadata": {},
     "output_type": "execute_result"
    }
   ],
   "source": [
    "data['name'].unique()"
   ]
  },
  {
   "cell_type": "code",
   "execution_count": 135,
   "metadata": {},
   "outputs": [
    {
     "data": {
      "text/plain": [
       "array(['Unspecified'], dtype=object)"
      ]
     },
     "execution_count": 135,
     "metadata": {},
     "output_type": "execute_result"
    }
   ],
   "source": [
    "data['pose'].unique()"
   ]
  },
  {
   "cell_type": "code",
   "execution_count": 136,
   "metadata": {
    "scrolled": true
   },
   "outputs": [
    {
     "name": "stdout",
     "output_type": "stream",
     "text": [
      "Max values w=367, h=303, d=3\n",
      "Min values w=156, h=135, d=3\n"
     ]
    }
   ],
   "source": [
    "print(f\"Max values w={data['width'].max()}, h={data['height'].max()}, d={data['depth'].max()}\")\n",
    "print(f\"Min values w={data['width'].min()}, h={data['height'].min()}, d={data['depth'].min()}\")"
   ]
  },
  {
   "cell_type": "code",
   "execution_count": 6,
   "metadata": {},
   "outputs": [],
   "source": [
    "data['y'] = data.apply(lambda row: row['ymax']-row['ymin'], axis=1)\n",
    "data['x'] = data.apply(lambda row: row['xmax']-row['xmin'], axis=1)\n",
    "data['taken_area'] = data.apply(lambda row: (row['x']*row['y'])/(row['width']*row['height']), axis=1)"
   ]
  },
  {
   "cell_type": "code",
   "execution_count": 11,
   "metadata": {},
   "outputs": [],
   "source": [
    "data['area'] = data.apply(lambda row: row['width']*row['height'], axis=1)\n",
    "data['aspect_ratio'] = data.apply(lambda row: row['width']/row['height'], axis=1)"
   ]
  },
  {
   "cell_type": "code",
   "execution_count": 12,
   "metadata": {},
   "outputs": [
    {
     "data": {
      "text/html": [
       "<div>\n",
       "<style scoped>\n",
       "    .dataframe tbody tr th:only-of-type {\n",
       "        vertical-align: middle;\n",
       "    }\n",
       "\n",
       "    .dataframe tbody tr th {\n",
       "        vertical-align: top;\n",
       "    }\n",
       "\n",
       "    .dataframe thead th {\n",
       "        text-align: right;\n",
       "    }\n",
       "</style>\n",
       "<table border=\"1\" class=\"dataframe\">\n",
       "  <thead>\n",
       "    <tr style=\"text-align: right;\">\n",
       "      <th></th>\n",
       "      <th>database</th>\n",
       "      <th>size</th>\n",
       "      <th>depth</th>\n",
       "      <th>folder</th>\n",
       "      <th>path</th>\n",
       "      <th>filename</th>\n",
       "      <th>source</th>\n",
       "      <th>object</th>\n",
       "      <th>height</th>\n",
       "      <th>segmented</th>\n",
       "      <th>...</th>\n",
       "      <th>bndbox</th>\n",
       "      <th>xmin</th>\n",
       "      <th>ymin</th>\n",
       "      <th>xmax</th>\n",
       "      <th>ymax</th>\n",
       "      <th>y</th>\n",
       "      <th>x</th>\n",
       "      <th>taken_area</th>\n",
       "      <th>area</th>\n",
       "      <th>aspect_ratio</th>\n",
       "    </tr>\n",
       "  </thead>\n",
       "  <tbody>\n",
       "    <tr>\n",
       "      <th>0</th>\n",
       "      <td>Unknown</td>\n",
       "      <td>\\n\\t\\t</td>\n",
       "      <td>3</td>\n",
       "      <td>images</td>\n",
       "      <td>validation/images/pic(22).jpg</td>\n",
       "      <td>pic(22).jpg</td>\n",
       "      <td>\\n\\t\\t</td>\n",
       "      <td>\\n\\t\\t</td>\n",
       "      <td>198</td>\n",
       "      <td>0</td>\n",
       "      <td>...</td>\n",
       "      <td>\\n\\t\\t\\t</td>\n",
       "      <td>92</td>\n",
       "      <td>18</td>\n",
       "      <td>235</td>\n",
       "      <td>96</td>\n",
       "      <td>78</td>\n",
       "      <td>143</td>\n",
       "      <td>0.221785</td>\n",
       "      <td>50292</td>\n",
       "      <td>1.282828</td>\n",
       "    </tr>\n",
       "    <tr>\n",
       "      <th>1</th>\n",
       "      <td>Unknown</td>\n",
       "      <td>\\n\\t\\t</td>\n",
       "      <td>3</td>\n",
       "      <td>images</td>\n",
       "      <td>validation/images/small(16).jpg</td>\n",
       "      <td>small(16).jpg</td>\n",
       "      <td>\\n\\t\\t</td>\n",
       "      <td>\\n\\t\\t</td>\n",
       "      <td>182</td>\n",
       "      <td>0</td>\n",
       "      <td>...</td>\n",
       "      <td>\\n\\t\\t\\t</td>\n",
       "      <td>151</td>\n",
       "      <td>32</td>\n",
       "      <td>165</td>\n",
       "      <td>61</td>\n",
       "      <td>29</td>\n",
       "      <td>14</td>\n",
       "      <td>0.008053</td>\n",
       "      <td>50414</td>\n",
       "      <td>1.521978</td>\n",
       "    </tr>\n",
       "    <tr>\n",
       "      <th>2</th>\n",
       "      <td>Unknown</td>\n",
       "      <td>\\n\\t\\t</td>\n",
       "      <td>3</td>\n",
       "      <td>images</td>\n",
       "      <td>validation/images/pic(3).jpg</td>\n",
       "      <td>pic(3).jpg</td>\n",
       "      <td>\\n\\t\\t</td>\n",
       "      <td>\\n\\t\\t</td>\n",
       "      <td>168</td>\n",
       "      <td>0</td>\n",
       "      <td>...</td>\n",
       "      <td>\\n\\t\\t\\t</td>\n",
       "      <td>110</td>\n",
       "      <td>82</td>\n",
       "      <td>197</td>\n",
       "      <td>135</td>\n",
       "      <td>53</td>\n",
       "      <td>87</td>\n",
       "      <td>0.091488</td>\n",
       "      <td>50400</td>\n",
       "      <td>1.785714</td>\n",
       "    </tr>\n",
       "    <tr>\n",
       "      <th>3</th>\n",
       "      <td>Unknown</td>\n",
       "      <td>\\n\\t\\t</td>\n",
       "      <td>3</td>\n",
       "      <td>images</td>\n",
       "      <td>validation/images/small(23).jpg</td>\n",
       "      <td>small(23).jpg</td>\n",
       "      <td>\\n\\t\\t</td>\n",
       "      <td>\\n\\t\\t</td>\n",
       "      <td>262</td>\n",
       "      <td>0</td>\n",
       "      <td>...</td>\n",
       "      <td>\\n\\t\\t\\t</td>\n",
       "      <td>72</td>\n",
       "      <td>66</td>\n",
       "      <td>100</td>\n",
       "      <td>125</td>\n",
       "      <td>59</td>\n",
       "      <td>28</td>\n",
       "      <td>0.032840</td>\n",
       "      <td>50304</td>\n",
       "      <td>0.732824</td>\n",
       "    </tr>\n",
       "    <tr>\n",
       "      <th>4</th>\n",
       "      <td>Unknown</td>\n",
       "      <td>\\n\\t\\t</td>\n",
       "      <td>3</td>\n",
       "      <td>images</td>\n",
       "      <td>validation/images/small(29).jpg</td>\n",
       "      <td>small(29).jpg</td>\n",
       "      <td>\\n\\t\\t</td>\n",
       "      <td>\\n\\t\\t</td>\n",
       "      <td>275</td>\n",
       "      <td>0</td>\n",
       "      <td>...</td>\n",
       "      <td>\\n\\t\\t\\t</td>\n",
       "      <td>80</td>\n",
       "      <td>24</td>\n",
       "      <td>106</td>\n",
       "      <td>103</td>\n",
       "      <td>79</td>\n",
       "      <td>26</td>\n",
       "      <td>0.040815</td>\n",
       "      <td>50325</td>\n",
       "      <td>0.665455</td>\n",
       "    </tr>\n",
       "  </tbody>\n",
       "</table>\n",
       "<p>5 rows × 25 columns</p>\n",
       "</div>"
      ],
      "text/plain": [
       "  database    size  depth  folder                             path  \\\n",
       "0  Unknown  \\n\\t\\t      3  images    validation/images/pic(22).jpg   \n",
       "1  Unknown  \\n\\t\\t      3  images  validation/images/small(16).jpg   \n",
       "2  Unknown  \\n\\t\\t      3  images     validation/images/pic(3).jpg   \n",
       "3  Unknown  \\n\\t\\t      3  images  validation/images/small(23).jpg   \n",
       "4  Unknown  \\n\\t\\t      3  images  validation/images/small(29).jpg   \n",
       "\n",
       "        filename  source  object  height  segmented  ...    bndbox xmin ymin  \\\n",
       "0    pic(22).jpg  \\n\\t\\t  \\n\\t\\t     198          0  ...  \\n\\t\\t\\t   92   18   \n",
       "1  small(16).jpg  \\n\\t\\t  \\n\\t\\t     182          0  ...  \\n\\t\\t\\t  151   32   \n",
       "2     pic(3).jpg  \\n\\t\\t  \\n\\t\\t     168          0  ...  \\n\\t\\t\\t  110   82   \n",
       "3  small(23).jpg  \\n\\t\\t  \\n\\t\\t     262          0  ...  \\n\\t\\t\\t   72   66   \n",
       "4  small(29).jpg  \\n\\t\\t  \\n\\t\\t     275          0  ...  \\n\\t\\t\\t   80   24   \n",
       "\n",
       "   xmax  ymax   y    x  taken_area   area  aspect_ratio  \n",
       "0   235    96  78  143    0.221785  50292      1.282828  \n",
       "1   165    61  29   14    0.008053  50414      1.521978  \n",
       "2   197   135  53   87    0.091488  50400      1.785714  \n",
       "3   100   125  59   28    0.032840  50304      0.732824  \n",
       "4   106   103  79   26    0.040815  50325      0.665455  \n",
       "\n",
       "[5 rows x 25 columns]"
      ]
     },
     "execution_count": 12,
     "metadata": {},
     "output_type": "execute_result"
    }
   ],
   "source": [
    "data.head()"
   ]
  },
  {
   "cell_type": "code",
   "execution_count": 13,
   "metadata": {},
   "outputs": [
    {
     "data": {
      "text/plain": [
       "<AxesSubplot:>"
      ]
     },
     "execution_count": 13,
     "metadata": {},
     "output_type": "execute_result"
    },
    {
     "data": {
      "image/png": "[encoded data removed]",
      "text/plain": [
       "<Figure size 432x288 with 1 Axes>"
      ]
     },
     "metadata": {
      "needs_background": "light"
     },
     "output_type": "display_data"
    }
   ],
   "source": [
    "data['taken_area'].hist()"
   ]
  },
  {
   "cell_type": "code",
   "execution_count": 14,
   "metadata": {},
   "outputs": [
    {
     "data": {
      "text/plain": [
       "<AxesSubplot:>"
      ]
     },
     "execution_count": 14,
     "metadata": {},
     "output_type": "execute_result"
    },
    {
     "data": {
      "image/png": "[encoded data removed]",
      "text/plain": [
       "<Figure size 432x288 with 1 Axes>"
      ]
     },
     "metadata": {
      "needs_background": "light"
     },
     "output_type": "display_data"
    }
   ],
   "source": [
    "data['area'].hist()"
   ]
  },
  {
   "cell_type": "code",
   "execution_count": 15,
   "metadata": {},
   "outputs": [
    {
     "data": {
      "text/plain": [
       "<AxesSubplot:>"
      ]
     },
     "execution_count": 15,
     "metadata": {},
     "output_type": "execute_result"
    },
    {
     "data": {
      "image/png": "[encoded data removed]",
      "text/plain": [
       "<Figure size 432x288 with 1 Axes>"
      ]
     },
     "metadata": {
      "needs_background": "light"
     },
     "output_type": "display_data"
    }
   ],
   "source": [
    "data['aspect_ratio'].hist()"
   ]
  }
 ],
 "metadata": {
  "kernelspec": {
   "display_name": "Python 3.8 (mlenv)",
   "language": "python",
   "name": "mlenv"
  },
  "language_info": {
   "codemirror_mode": {
    "name": "ipython",
    "version": 3
   },
   "file_extension": ".py",
   "mimetype": "text/x-python",
   "name": "python",
   "nbconvert_exporter": "python",
   "pygments_lexer": "ipython3",
   "version": "3.8.3"
  }
 },
 "nbformat": 4,
 "nbformat_minor": 4
}
