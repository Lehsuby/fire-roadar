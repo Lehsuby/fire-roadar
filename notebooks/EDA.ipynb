{
 "cells": [
  {
   "cell_type": "code",
   "execution_count": 3,
   "metadata": {},
   "outputs": [],
   "source": [
    "from xml.etree import ElementTree\n",
    "from pathlib import Path\n",
    "import pandas as pd\n",
    "from collections import deque, Counter"
   ]
  },
  {
   "cell_type": "code",
   "execution_count": 106,
   "metadata": {},
   "outputs": [],
   "source": [
    "def get_inner_names(root):\n",
    "    column_names = []\n",
    "    queue = deque([root])\n",
    "    \n",
    "    while queue:\n",
    "        childs, child_names = get_childs(queue.popleft())\n",
    "        queue.extend(childs)\n",
    "        column_names.extend(child_names)\n",
    "    \n",
    "    return column_names\n",
    "\n",
    "def get_childs(root):\n",
    "    names = [child.tag for child in root]\n",
    "    return list(root), names\n",
    "\n",
    "def convert_xml_to_df(dataset_path):\n",
    "    dataset_path = Path(dataset_path)\n",
    "    dataset = []\n",
    "    \n",
    "    for xml_path in dataset_path.rglob(\"*.xml\"):\n",
    "        xml_tree = ElementTree.parse(xml_path)\n",
    "        \n",
    "        root = xml_tree.getroot()\n",
    "        dataset_elem = {}\n",
    "        \n",
    "        column_names = get_inner_names(root)\n",
    "        cnt = Counter(column_names)\n",
    "        num_objs = cnt['object']\n",
    "        \n",
    "        uniqie_column_names = list(set(column_names))\n",
    "        obj_names = get_inner_names(root.find(\"object\"))\n",
    "        \n",
    "        for name in set(uniqie_column_names)-set(obj_names):\n",
    "                dataset_elem[name] = list(root.iter(name))[0].text\n",
    "        \n",
    "        dataset_elems = [dataset_elem.copy() for i in range(num_objs)]\n",
    "        for idx, obj in enumerate(root.iter(\"object\")):\n",
    "            for name in obj_names:\n",
    "                dataset_elems[idx][name] = list(obj.iter(name))[0].text\n",
    "                \n",
    "        dataset.extend(dataset_elems)\n",
    "        \n",
    "    dataset = pd.DataFrame(dataset)\n",
    "    return dataset"
   ]
  },
  {
   "cell_type": "code",
   "execution_count": 142,
   "metadata": {
    "scrolled": false
   },
   "outputs": [
    {
     "data": {
      "text/html": [
       "<div>\n",
       "<style scoped>\n",
       "    .dataframe tbody tr th:only-of-type {\n",
       "        vertical-align: middle;\n",
       "    }\n",
       "\n",
       "    .dataframe tbody tr th {\n",
       "        vertical-align: top;\n",
       "    }\n",
       "\n",
       "    .dataframe thead th {\n",
       "        text-align: right;\n",
       "    }\n",
       "</style>\n",
       "<table border=\"1\" class=\"dataframe\">\n",
       "  <thead>\n",
       "    <tr style=\"text-align: right;\">\n",
       "      <th></th>\n",
       "      <th>depth</th>\n",
       "      <th>size</th>\n",
       "      <th>database</th>\n",
       "      <th>height</th>\n",
       "      <th>object</th>\n",
       "      <th>segmented</th>\n",
       "      <th>path</th>\n",
       "      <th>folder</th>\n",
       "      <th>source</th>\n",
       "      <th>width</th>\n",
       "      <th>filename</th>\n",
       "      <th>name</th>\n",
       "      <th>pose</th>\n",
       "      <th>truncated</th>\n",
       "      <th>difficult</th>\n",
       "      <th>bndbox</th>\n",
       "      <th>xmin</th>\n",
       "      <th>ymin</th>\n",
       "      <th>xmax</th>\n",
       "      <th>ymax</th>\n",
       "    </tr>\n",
       "  </thead>\n",
       "  <tbody>\n",
       "    <tr>\n",
       "      <th>0</th>\n",
       "      <td>3</td>\n",
       "      <td>\\n\\t\\t</td>\n",
       "      <td>Unknown</td>\n",
       "      <td>168</td>\n",
       "      <td>\\n\\t\\t</td>\n",
       "      <td>0</td>\n",
       "      <td>validation/images/img (22).jpg</td>\n",
       "      <td>images</td>\n",
       "      <td>\\n\\t\\t</td>\n",
       "      <td>300</td>\n",
       "      <td>img (22).jpg</td>\n",
       "      <td>fire</td>\n",
       "      <td>Unspecified</td>\n",
       "      <td>0</td>\n",
       "      <td>0</td>\n",
       "      <td>\\n\\t\\t\\t</td>\n",
       "      <td>45</td>\n",
       "      <td>130</td>\n",
       "      <td>109</td>\n",
       "      <td>157</td>\n",
       "    </tr>\n",
       "    <tr>\n",
       "      <th>1</th>\n",
       "      <td>3</td>\n",
       "      <td>\\n\\t\\t</td>\n",
       "      <td>Unknown</td>\n",
       "      <td>168</td>\n",
       "      <td>\\n\\t\\t</td>\n",
       "      <td>0</td>\n",
       "      <td>validation/images/img (22).jpg</td>\n",
       "      <td>images</td>\n",
       "      <td>\\n\\t\\t</td>\n",
       "      <td>300</td>\n",
       "      <td>img (22).jpg</td>\n",
       "      <td>fire</td>\n",
       "      <td>Unspecified</td>\n",
       "      <td>0</td>\n",
       "      <td>0</td>\n",
       "      <td>\\n\\t\\t\\t</td>\n",
       "      <td>176</td>\n",
       "      <td>51</td>\n",
       "      <td>263</td>\n",
       "      <td>99</td>\n",
       "    </tr>\n",
       "    <tr>\n",
       "      <th>2</th>\n",
       "      <td>3</td>\n",
       "      <td>\\n\\t\\t</td>\n",
       "      <td>Unknown</td>\n",
       "      <td>168</td>\n",
       "      <td>\\n\\t\\t</td>\n",
       "      <td>0</td>\n",
       "      <td>validation/images/img (22).jpg</td>\n",
       "      <td>images</td>\n",
       "      <td>\\n\\t\\t</td>\n",
       "      <td>300</td>\n",
       "      <td>img (22).jpg</td>\n",
       "      <td>fire</td>\n",
       "      <td>Unspecified</td>\n",
       "      <td>1</td>\n",
       "      <td>0</td>\n",
       "      <td>\\n\\t\\t\\t</td>\n",
       "      <td>284</td>\n",
       "      <td>92</td>\n",
       "      <td>300</td>\n",
       "      <td>115</td>\n",
       "    </tr>\n",
       "    <tr>\n",
       "      <th>3</th>\n",
       "      <td>3</td>\n",
       "      <td>\\n\\t\\t</td>\n",
       "      <td>Unknown</td>\n",
       "      <td>168</td>\n",
       "      <td>\\n\\t\\t</td>\n",
       "      <td>0</td>\n",
       "      <td>validation/images/img (22).jpg</td>\n",
       "      <td>images</td>\n",
       "      <td>\\n\\t\\t</td>\n",
       "      <td>300</td>\n",
       "      <td>img (22).jpg</td>\n",
       "      <td>fire</td>\n",
       "      <td>Unspecified</td>\n",
       "      <td>0</td>\n",
       "      <td>0</td>\n",
       "      <td>\\n\\t\\t\\t</td>\n",
       "      <td>239</td>\n",
       "      <td>131</td>\n",
       "      <td>284</td>\n",
       "      <td>152</td>\n",
       "    </tr>\n",
       "    <tr>\n",
       "      <th>4</th>\n",
       "      <td>3</td>\n",
       "      <td>\\n\\t\\t</td>\n",
       "      <td>Unknown</td>\n",
       "      <td>275</td>\n",
       "      <td>\\n\\t\\t</td>\n",
       "      <td>0</td>\n",
       "      <td>validation/images/small (29).jpg</td>\n",
       "      <td>images</td>\n",
       "      <td>\\n\\t\\t</td>\n",
       "      <td>183</td>\n",
       "      <td>small (29).jpg</td>\n",
       "      <td>fire</td>\n",
       "      <td>Unspecified</td>\n",
       "      <td>0</td>\n",
       "      <td>0</td>\n",
       "      <td>\\n\\t\\t\\t</td>\n",
       "      <td>80</td>\n",
       "      <td>24</td>\n",
       "      <td>106</td>\n",
       "      <td>103</td>\n",
       "    </tr>\n",
       "  </tbody>\n",
       "</table>\n",
       "</div>"
      ],
      "text/plain": [
       "   depth    size database  height  object  segmented  \\\n",
       "0      3  \\n\\t\\t  Unknown     168  \\n\\t\\t          0   \n",
       "1      3  \\n\\t\\t  Unknown     168  \\n\\t\\t          0   \n",
       "2      3  \\n\\t\\t  Unknown     168  \\n\\t\\t          0   \n",
       "3      3  \\n\\t\\t  Unknown     168  \\n\\t\\t          0   \n",
       "4      3  \\n\\t\\t  Unknown     275  \\n\\t\\t          0   \n",
       "\n",
       "                               path  folder  source  width        filename  \\\n",
       "0    validation/images/img (22).jpg  images  \\n\\t\\t    300    img (22).jpg   \n",
       "1    validation/images/img (22).jpg  images  \\n\\t\\t    300    img (22).jpg   \n",
       "2    validation/images/img (22).jpg  images  \\n\\t\\t    300    img (22).jpg   \n",
       "3    validation/images/img (22).jpg  images  \\n\\t\\t    300    img (22).jpg   \n",
       "4  validation/images/small (29).jpg  images  \\n\\t\\t    183  small (29).jpg   \n",
       "\n",
       "   name         pose  truncated  difficult    bndbox  xmin  ymin  xmax  ymax  \n",
       "0  fire  Unspecified          0          0  \\n\\t\\t\\t    45   130   109   157  \n",
       "1  fire  Unspecified          0          0  \\n\\t\\t\\t   176    51   263    99  \n",
       "2  fire  Unspecified          1          0  \\n\\t\\t\\t   284    92   300   115  \n",
       "3  fire  Unspecified          0          0  \\n\\t\\t\\t   239   131   284   152  \n",
       "4  fire  Unspecified          0          0  \\n\\t\\t\\t    80    24   106   103  "
      ]
     },
     "execution_count": 142,
     "metadata": {},
     "output_type": "execute_result"
    }
   ],
   "source": [
    "data = convert_xml_to_df(\"../data\")\n",
    "for column_name in ['xmin', 'xmax', 'ymin', 'ymax', 'width', 'depth', 'height', 'segmented', 'truncated', 'difficult']:\n",
    "    data[column_name] = data[column_name].astype(int)\n",
    "data.head()"
   ]
  },
  {
   "cell_type": "code",
   "execution_count": 130,
   "metadata": {},
   "outputs": [
    {
     "data": {
      "text/plain": [
       "array(['Unknown'], dtype=object)"
      ]
     },
     "execution_count": 130,
     "metadata": {},
     "output_type": "execute_result"
    }
   ],
   "source": [
    "data['database'].unique()"
   ]
  },
  {
   "cell_type": "code",
   "execution_count": 131,
   "metadata": {},
   "outputs": [
    {
     "data": {
      "text/plain": [
       "array([0])"
      ]
     },
     "execution_count": 131,
     "metadata": {},
     "output_type": "execute_result"
    }
   ],
   "source": [
    "data['segmented'].unique()"
   ]
  },
  {
   "cell_type": "code",
   "execution_count": 132,
   "metadata": {},
   "outputs": [
    {
     "name": "stdout",
     "output_type": "stream",
     "text": [
      "[0 1]\n",
      "0    691\n",
      "1     10\n",
      "Name: truncated, dtype: int64\n"
     ]
    },
    {
     "data": {
      "text/plain": [
       "<AxesSubplot:>"
      ]
     },
     "execution_count": 132,
     "metadata": {},
     "output_type": "execute_result"
    },
    {
     "data": {
      "image/png": "[encoded data removed]",
      "text/plain": [
       "<Figure size 432x288 with 1 Axes>"
      ]
     },
     "metadata": {},
     "output_type": "display_data"
    }
   ],
   "source": [
    "print(data['truncated'].unique())\n",
    "print(data['truncated'].value_counts())\n",
    "data['truncated'].hist()"
   ]
  },
  {
   "cell_type": "code",
   "execution_count": 133,
   "metadata": {},
   "outputs": [
    {
     "data": {
      "text/plain": [
       "array([0])"
      ]
     },
     "execution_count": 133,
     "metadata": {},
     "output_type": "execute_result"
    }
   ],
   "source": [
    "data['difficult'].unique()"
   ]
  },
  {
   "cell_type": "code",
   "execution_count": 134,
   "metadata": {},
   "outputs": [
    {
     "data": {
      "text/plain": [
       "array(['fire'], dtype=object)"
      ]
     },
     "execution_count": 134,
     "metadata": {},
     "output_type": "execute_result"
    }
   ],
   "source": [
    "data['name'].unique()"
   ]
  },
  {
   "cell_type": "code",
   "execution_count": 135,
   "metadata": {},
   "outputs": [
    {
     "data": {
      "text/plain": [
       "array(['Unspecified'], dtype=object)"
      ]
     },
     "execution_count": 135,
     "metadata": {},
     "output_type": "execute_result"
    }
   ],
   "source": [
    "data['pose'].unique()"
   ]
  },
  {
   "cell_type": "code",
   "execution_count": 136,
   "metadata": {
    "scrolled": true
   },
   "outputs": [
    {
     "name": "stdout",
     "output_type": "stream",
     "text": [
      "Max values w=367, h=303, d=3\n",
      "Min values w=156, h=135, d=3\n"
     ]
    }
   ],
   "source": [
    "print(f\"Max values w={data['width'].max()}, h={data['height'].max()}, d={data['depth'].max()}\")\n",
    "print(f\"Min values w={data['width'].min()}, h={data['height'].min()}, d={data['depth'].min()}\")"
   ]
  },
  {
   "cell_type": "code",
   "execution_count": 143,
   "metadata": {},
   "outputs": [
    {
     "data": {
      "text/plain": [
       "<AxesSubplot:>"
      ]
     },
     "execution_count": 143,
     "metadata": {},
     "output_type": "execute_result"
    },
    {
     "data": {
      "image/png": "[encoded data removed]",
      "text/plain": [
       "<Figure size 432x288 with 1 Axes>"
      ]
     },
     "metadata": {},
     "output_type": "display_data"
    }
   ],
   "source": [
    "data['width'].hist()"
   ]
  },
  {
   "cell_type": "code",
   "execution_count": 144,
   "metadata": {},
   "outputs": [
    {
     "data": {
      "text/plain": [
       "<AxesSubplot:>"
      ]
     },
     "execution_count": 144,
     "metadata": {},
     "output_type": "execute_result"
    },
    {
     "data": {
      "image/png": "[encoded data removed]",
      "text/plain": [
       "<Figure size 432x288 with 1 Axes>"
      ]
     },
     "metadata": {},
     "output_type": "display_data"
    }
   ],
   "source": [
    "data['height'].hist()"
   ]
  },
  {
   "cell_type": "code",
   "execution_count": 145,
   "metadata": {},
   "outputs": [],
   "source": [
    "data['y'] = data.apply(lambda row: row['ymax']-row['ymin'], axis=1)\n",
    "data['x'] = data.apply(lambda row: row['xmax']-row['xmin'], axis=1)\n",
    "data['taken_area'] = data.apply(lambda row: (row['x']*row['y'])/(row['width']*row['height']), axis=1)"
   ]
  },
  {
   "cell_type": "code",
   "execution_count": 146,
   "metadata": {},
   "outputs": [
    {
     "data": {
      "text/html": [
       "<div>\n",
       "<style scoped>\n",
       "    .dataframe tbody tr th:only-of-type {\n",
       "        vertical-align: middle;\n",
       "    }\n",
       "\n",
       "    .dataframe tbody tr th {\n",
       "        vertical-align: top;\n",
       "    }\n",
       "\n",
       "    .dataframe thead th {\n",
       "        text-align: right;\n",
       "    }\n",
       "</style>\n",
       "<table border=\"1\" class=\"dataframe\">\n",
       "  <thead>\n",
       "    <tr style=\"text-align: right;\">\n",
       "      <th></th>\n",
       "      <th>depth</th>\n",
       "      <th>size</th>\n",
       "      <th>database</th>\n",
       "      <th>height</th>\n",
       "      <th>object</th>\n",
       "      <th>segmented</th>\n",
       "      <th>path</th>\n",
       "      <th>folder</th>\n",
       "      <th>source</th>\n",
       "      <th>width</th>\n",
       "      <th>...</th>\n",
       "      <th>truncated</th>\n",
       "      <th>difficult</th>\n",
       "      <th>bndbox</th>\n",
       "      <th>xmin</th>\n",
       "      <th>ymin</th>\n",
       "      <th>xmax</th>\n",
       "      <th>ymax</th>\n",
       "      <th>y</th>\n",
       "      <th>x</th>\n",
       "      <th>taken_area</th>\n",
       "    </tr>\n",
       "  </thead>\n",
       "  <tbody>\n",
       "    <tr>\n",
       "      <th>0</th>\n",
       "      <td>3</td>\n",
       "      <td>\\n\\t\\t</td>\n",
       "      <td>Unknown</td>\n",
       "      <td>168</td>\n",
       "      <td>\\n\\t\\t</td>\n",
       "      <td>0</td>\n",
       "      <td>validation/images/img (22).jpg</td>\n",
       "      <td>images</td>\n",
       "      <td>\\n\\t\\t</td>\n",
       "      <td>300</td>\n",
       "      <td>...</td>\n",
       "      <td>0</td>\n",
       "      <td>0</td>\n",
       "      <td>\\n\\t\\t\\t</td>\n",
       "      <td>45</td>\n",
       "      <td>130</td>\n",
       "      <td>109</td>\n",
       "      <td>157</td>\n",
       "      <td>27</td>\n",
       "      <td>64</td>\n",
       "      <td>0.034286</td>\n",
       "    </tr>\n",
       "    <tr>\n",
       "      <th>1</th>\n",
       "      <td>3</td>\n",
       "      <td>\\n\\t\\t</td>\n",
       "      <td>Unknown</td>\n",
       "      <td>168</td>\n",
       "      <td>\\n\\t\\t</td>\n",
       "      <td>0</td>\n",
       "      <td>validation/images/img (22).jpg</td>\n",
       "      <td>images</td>\n",
       "      <td>\\n\\t\\t</td>\n",
       "      <td>300</td>\n",
       "      <td>...</td>\n",
       "      <td>0</td>\n",
       "      <td>0</td>\n",
       "      <td>\\n\\t\\t\\t</td>\n",
       "      <td>176</td>\n",
       "      <td>51</td>\n",
       "      <td>263</td>\n",
       "      <td>99</td>\n",
       "      <td>48</td>\n",
       "      <td>87</td>\n",
       "      <td>0.082857</td>\n",
       "    </tr>\n",
       "    <tr>\n",
       "      <th>2</th>\n",
       "      <td>3</td>\n",
       "      <td>\\n\\t\\t</td>\n",
       "      <td>Unknown</td>\n",
       "      <td>168</td>\n",
       "      <td>\\n\\t\\t</td>\n",
       "      <td>0</td>\n",
       "      <td>validation/images/img (22).jpg</td>\n",
       "      <td>images</td>\n",
       "      <td>\\n\\t\\t</td>\n",
       "      <td>300</td>\n",
       "      <td>...</td>\n",
       "      <td>1</td>\n",
       "      <td>0</td>\n",
       "      <td>\\n\\t\\t\\t</td>\n",
       "      <td>284</td>\n",
       "      <td>92</td>\n",
       "      <td>300</td>\n",
       "      <td>115</td>\n",
       "      <td>23</td>\n",
       "      <td>16</td>\n",
       "      <td>0.007302</td>\n",
       "    </tr>\n",
       "    <tr>\n",
       "      <th>3</th>\n",
       "      <td>3</td>\n",
       "      <td>\\n\\t\\t</td>\n",
       "      <td>Unknown</td>\n",
       "      <td>168</td>\n",
       "      <td>\\n\\t\\t</td>\n",
       "      <td>0</td>\n",
       "      <td>validation/images/img (22).jpg</td>\n",
       "      <td>images</td>\n",
       "      <td>\\n\\t\\t</td>\n",
       "      <td>300</td>\n",
       "      <td>...</td>\n",
       "      <td>0</td>\n",
       "      <td>0</td>\n",
       "      <td>\\n\\t\\t\\t</td>\n",
       "      <td>239</td>\n",
       "      <td>131</td>\n",
       "      <td>284</td>\n",
       "      <td>152</td>\n",
       "      <td>21</td>\n",
       "      <td>45</td>\n",
       "      <td>0.018750</td>\n",
       "    </tr>\n",
       "    <tr>\n",
       "      <th>4</th>\n",
       "      <td>3</td>\n",
       "      <td>\\n\\t\\t</td>\n",
       "      <td>Unknown</td>\n",
       "      <td>275</td>\n",
       "      <td>\\n\\t\\t</td>\n",
       "      <td>0</td>\n",
       "      <td>validation/images/small (29).jpg</td>\n",
       "      <td>images</td>\n",
       "      <td>\\n\\t\\t</td>\n",
       "      <td>183</td>\n",
       "      <td>...</td>\n",
       "      <td>0</td>\n",
       "      <td>0</td>\n",
       "      <td>\\n\\t\\t\\t</td>\n",
       "      <td>80</td>\n",
       "      <td>24</td>\n",
       "      <td>106</td>\n",
       "      <td>103</td>\n",
       "      <td>79</td>\n",
       "      <td>26</td>\n",
       "      <td>0.040815</td>\n",
       "    </tr>\n",
       "  </tbody>\n",
       "</table>\n",
       "<p>5 rows × 23 columns</p>\n",
       "</div>"
      ],
      "text/plain": [
       "   depth    size database  height  object  segmented  \\\n",
       "0      3  \\n\\t\\t  Unknown     168  \\n\\t\\t          0   \n",
       "1      3  \\n\\t\\t  Unknown     168  \\n\\t\\t          0   \n",
       "2      3  \\n\\t\\t  Unknown     168  \\n\\t\\t          0   \n",
       "3      3  \\n\\t\\t  Unknown     168  \\n\\t\\t          0   \n",
       "4      3  \\n\\t\\t  Unknown     275  \\n\\t\\t          0   \n",
       "\n",
       "                               path  folder  source  width  ... truncated  \\\n",
       "0    validation/images/img (22).jpg  images  \\n\\t\\t    300  ...         0   \n",
       "1    validation/images/img (22).jpg  images  \\n\\t\\t    300  ...         0   \n",
       "2    validation/images/img (22).jpg  images  \\n\\t\\t    300  ...         1   \n",
       "3    validation/images/img (22).jpg  images  \\n\\t\\t    300  ...         0   \n",
       "4  validation/images/small (29).jpg  images  \\n\\t\\t    183  ...         0   \n",
       "\n",
       "  difficult    bndbox  xmin  ymin xmax  ymax   y   x  taken_area  \n",
       "0         0  \\n\\t\\t\\t    45   130  109   157  27  64    0.034286  \n",
       "1         0  \\n\\t\\t\\t   176    51  263    99  48  87    0.082857  \n",
       "2         0  \\n\\t\\t\\t   284    92  300   115  23  16    0.007302  \n",
       "3         0  \\n\\t\\t\\t   239   131  284   152  21  45    0.018750  \n",
       "4         0  \\n\\t\\t\\t    80    24  106   103  79  26    0.040815  \n",
       "\n",
       "[5 rows x 23 columns]"
      ]
     },
     "execution_count": 146,
     "metadata": {},
     "output_type": "execute_result"
    }
   ],
   "source": [
    "data.head()"
   ]
  },
  {
   "cell_type": "code",
   "execution_count": 147,
   "metadata": {},
   "outputs": [
    {
     "data": {
      "text/plain": [
       "<AxesSubplot:>"
      ]
     },
     "execution_count": 147,
     "metadata": {},
     "output_type": "execute_result"
    },
    {
     "data": {
      "image/png": "[encoded data removed]",
      "text/plain": [
       "<Figure size 432x288 with 1 Axes>"
      ]
     },
     "metadata": {},
     "output_type": "display_data"
    }
   ],
   "source": [
    "data['taken_area'].hist()"
   ]
  }
 ],
 "metadata": {
  "kernelspec": {
   "display_name": "Python 3.8 (mlenv)",
   "language": "python",
   "name": "mlenv"
  },
  "language_info": {
   "codemirror_mode": {
    "name": "ipython",
    "version": 3
   },
   "file_extension": ".py",
   "mimetype": "text/x-python",
   "name": "python",
   "nbconvert_exporter": "python",
   "pygments_lexer": "ipython3",
   "version": "3.8.3"
  }
 },
 "nbformat": 4,
 "nbformat_minor": 4
}
